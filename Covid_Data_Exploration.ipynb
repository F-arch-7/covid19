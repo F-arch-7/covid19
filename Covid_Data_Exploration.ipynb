{
 "cells": [
  {
   "cell_type": "code",
   "execution_count": 102,
   "metadata": {},
   "outputs": [],
   "source": [
    "import numpy as np\n",
    "import scipy as sc\n",
    "import matplotlib.pyplot as plt\n",
    "%matplotlib inline\n",
    "import seaborn as sns\n",
    "sns.set_style('darkgrid')\n",
    "import pandas as pd\n",
    "from sklearn import svm, metrics, model_selection"
   ]
  },
  {
   "cell_type": "markdown",
   "metadata": {},
   "source": [
    "# Extraction of the data"
   ]
  },
  {
   "cell_type": "code",
   "execution_count": 64,
   "metadata": {},
   "outputs": [],
   "source": [
    "url='https://raw.githubusercontent.com/CSSEGISandData/COVID-19/master/csse_covid_19_data/'\n",
    "daily='csse_covid_19_daily_reports/' #date in the form  01-22-2020.csv\n",
    "time_serie='csse_covid_19_time_series/' #+confirmed, death,recovered\n",
    "confirmed_data='time_series_covid19_confirmed_global.csv'\n",
    "death_data='time_series_covid19_deaths_global.csv'\n",
    "recovered_data='time_series_covid19_recovered_global.csv'"
   ]
  },
  {
   "cell_type": "code",
   "execution_count": 67,
   "metadata": {},
   "outputs": [],
   "source": [
    "confirmed=pd.read_csv(url+time_serie+confirmed_data)\n",
    "dead=pd.read_csv(url+time_serie+death_data)\n",
    "recovered=pd.read_csv(url+time_serie+recovered_data)"
   ]
  },
  {
   "cell_type": "code",
   "execution_count": 69,
   "metadata": {},
   "outputs": [],
   "source": [
    "def date(day,month):   #convert a date in (day,month) format to a string to feed in the read_csv function\n",
    "    day=str(day)\n",
    "    month=str(month)\n",
    "    if len(month)==1:\n",
    "        month='0'+month\n",
    "    date=month+'-'+day+'-2020.csv'\n",
    "    return date"
   ]
  },
  {
   "cell_type": "code",
   "execution_count": 73,
   "metadata": {},
   "outputs": [],
   "source": [
    "today=pd.read_csv(url+daily+date(28,3))"
   ]
  },
  {
   "cell_type": "code",
   "execution_count": 75,
   "metadata": {},
   "outputs": [
    {
     "data": {
      "text/html": [
       "<div>\n",
       "<style scoped>\n",
       "    .dataframe tbody tr th:only-of-type {\n",
       "        vertical-align: middle;\n",
       "    }\n",
       "\n",
       "    .dataframe tbody tr th {\n",
       "        vertical-align: top;\n",
       "    }\n",
       "\n",
       "    .dataframe thead th {\n",
       "        text-align: right;\n",
       "    }\n",
       "</style>\n",
       "<table border=\"1\" class=\"dataframe\">\n",
       "  <thead>\n",
       "    <tr style=\"text-align: right;\">\n",
       "      <th></th>\n",
       "      <th>Province/State</th>\n",
       "      <th>Country/Region</th>\n",
       "      <th>Lat</th>\n",
       "      <th>Long</th>\n",
       "      <th>1/22/20</th>\n",
       "      <th>1/23/20</th>\n",
       "      <th>1/24/20</th>\n",
       "      <th>1/25/20</th>\n",
       "      <th>1/26/20</th>\n",
       "      <th>1/27/20</th>\n",
       "      <th>...</th>\n",
       "      <th>3/19/20</th>\n",
       "      <th>3/20/20</th>\n",
       "      <th>3/21/20</th>\n",
       "      <th>3/22/20</th>\n",
       "      <th>3/23/20</th>\n",
       "      <th>3/24/20</th>\n",
       "      <th>3/25/20</th>\n",
       "      <th>3/26/20</th>\n",
       "      <th>3/27/20</th>\n",
       "      <th>3/28/20</th>\n",
       "    </tr>\n",
       "  </thead>\n",
       "  <tbody>\n",
       "    <tr>\n",
       "      <td>0</td>\n",
       "      <td>NaN</td>\n",
       "      <td>Afghanistan</td>\n",
       "      <td>33.0000</td>\n",
       "      <td>65.0000</td>\n",
       "      <td>0</td>\n",
       "      <td>0</td>\n",
       "      <td>0</td>\n",
       "      <td>0</td>\n",
       "      <td>0</td>\n",
       "      <td>0</td>\n",
       "      <td>...</td>\n",
       "      <td>22</td>\n",
       "      <td>24</td>\n",
       "      <td>24</td>\n",
       "      <td>40</td>\n",
       "      <td>40</td>\n",
       "      <td>74</td>\n",
       "      <td>84</td>\n",
       "      <td>94</td>\n",
       "      <td>110</td>\n",
       "      <td>110</td>\n",
       "    </tr>\n",
       "    <tr>\n",
       "      <td>1</td>\n",
       "      <td>NaN</td>\n",
       "      <td>Albania</td>\n",
       "      <td>41.1533</td>\n",
       "      <td>20.1683</td>\n",
       "      <td>0</td>\n",
       "      <td>0</td>\n",
       "      <td>0</td>\n",
       "      <td>0</td>\n",
       "      <td>0</td>\n",
       "      <td>0</td>\n",
       "      <td>...</td>\n",
       "      <td>64</td>\n",
       "      <td>70</td>\n",
       "      <td>76</td>\n",
       "      <td>89</td>\n",
       "      <td>104</td>\n",
       "      <td>123</td>\n",
       "      <td>146</td>\n",
       "      <td>174</td>\n",
       "      <td>186</td>\n",
       "      <td>197</td>\n",
       "    </tr>\n",
       "    <tr>\n",
       "      <td>2</td>\n",
       "      <td>NaN</td>\n",
       "      <td>Algeria</td>\n",
       "      <td>28.0339</td>\n",
       "      <td>1.6596</td>\n",
       "      <td>0</td>\n",
       "      <td>0</td>\n",
       "      <td>0</td>\n",
       "      <td>0</td>\n",
       "      <td>0</td>\n",
       "      <td>0</td>\n",
       "      <td>...</td>\n",
       "      <td>87</td>\n",
       "      <td>90</td>\n",
       "      <td>139</td>\n",
       "      <td>201</td>\n",
       "      <td>230</td>\n",
       "      <td>264</td>\n",
       "      <td>302</td>\n",
       "      <td>367</td>\n",
       "      <td>409</td>\n",
       "      <td>454</td>\n",
       "    </tr>\n",
       "    <tr>\n",
       "      <td>3</td>\n",
       "      <td>NaN</td>\n",
       "      <td>Andorra</td>\n",
       "      <td>42.5063</td>\n",
       "      <td>1.5218</td>\n",
       "      <td>0</td>\n",
       "      <td>0</td>\n",
       "      <td>0</td>\n",
       "      <td>0</td>\n",
       "      <td>0</td>\n",
       "      <td>0</td>\n",
       "      <td>...</td>\n",
       "      <td>53</td>\n",
       "      <td>75</td>\n",
       "      <td>88</td>\n",
       "      <td>113</td>\n",
       "      <td>133</td>\n",
       "      <td>164</td>\n",
       "      <td>188</td>\n",
       "      <td>224</td>\n",
       "      <td>267</td>\n",
       "      <td>308</td>\n",
       "    </tr>\n",
       "    <tr>\n",
       "      <td>4</td>\n",
       "      <td>NaN</td>\n",
       "      <td>Angola</td>\n",
       "      <td>-11.2027</td>\n",
       "      <td>17.8739</td>\n",
       "      <td>0</td>\n",
       "      <td>0</td>\n",
       "      <td>0</td>\n",
       "      <td>0</td>\n",
       "      <td>0</td>\n",
       "      <td>0</td>\n",
       "      <td>...</td>\n",
       "      <td>0</td>\n",
       "      <td>1</td>\n",
       "      <td>2</td>\n",
       "      <td>2</td>\n",
       "      <td>3</td>\n",
       "      <td>3</td>\n",
       "      <td>3</td>\n",
       "      <td>4</td>\n",
       "      <td>4</td>\n",
       "      <td>5</td>\n",
       "    </tr>\n",
       "  </tbody>\n",
       "</table>\n",
       "<p>5 rows × 71 columns</p>\n",
       "</div>"
      ],
      "text/plain": [
       "  Province/State Country/Region      Lat     Long  1/22/20  1/23/20  1/24/20  \\\n",
       "0            NaN    Afghanistan  33.0000  65.0000        0        0        0   \n",
       "1            NaN        Albania  41.1533  20.1683        0        0        0   \n",
       "2            NaN        Algeria  28.0339   1.6596        0        0        0   \n",
       "3            NaN        Andorra  42.5063   1.5218        0        0        0   \n",
       "4            NaN         Angola -11.2027  17.8739        0        0        0   \n",
       "\n",
       "   1/25/20  1/26/20  1/27/20  ...  3/19/20  3/20/20  3/21/20  3/22/20  \\\n",
       "0        0        0        0  ...       22       24       24       40   \n",
       "1        0        0        0  ...       64       70       76       89   \n",
       "2        0        0        0  ...       87       90      139      201   \n",
       "3        0        0        0  ...       53       75       88      113   \n",
       "4        0        0        0  ...        0        1        2        2   \n",
       "\n",
       "   3/23/20  3/24/20  3/25/20  3/26/20  3/27/20  3/28/20  \n",
       "0       40       74       84       94      110      110  \n",
       "1      104      123      146      174      186      197  \n",
       "2      230      264      302      367      409      454  \n",
       "3      133      164      188      224      267      308  \n",
       "4        3        3        3        4        4        5  \n",
       "\n",
       "[5 rows x 71 columns]"
      ]
     },
     "execution_count": 75,
     "metadata": {},
     "output_type": "execute_result"
    }
   ],
   "source": [
    "confirmed.head()"
   ]
  },
  {
   "cell_type": "markdown",
   "metadata": {},
   "source": [
    "# Data Exploration"
   ]
  },
  {
   "cell_type": "code",
   "execution_count": 105,
   "metadata": {
    "scrolled": true
   },
   "outputs": [
    {
     "data": {
      "image/png": "[encoded data removed]",
      "text/plain": [
       "<Figure size 432x288 with 1 Axes>"
      ]
     },
     "metadata": {},
     "output_type": "display_data"
    }
   ],
   "source": [
    "confirmed_italy=confirmed.iloc[137,4:]\n",
    "dead_italy=dead.iloc[137,4:]\n",
    "recovered_italy=recovered.iloc[137,4:]\n",
    "confirmed_italy\n",
    "time=np.arange(len(confirmed_italy))\n",
    "plt.figure()\n",
    "plt.title('Confirmed Case in Italy')\n",
    "plt.xlabel('day after 01-20-2020')\n",
    "plt.ylabel('number of case')\n",
    "plt.plot(time,confirmed_italy,'b-',label='confirmed')\n",
    "plt.plot(time,dead_italy,'r-',label='dead')\n",
    "plt.plot(time,recovered_italy,'g-',label='recovered')\n",
    "plt.legend()\n",
    "plt.xlim(30)\n",
    "plt.show()"
   ]
  },
  {
   "cell_type": "code",
   "execution_count": 108,
   "metadata": {},
   "outputs": [
    {
     "data": {
      "image/png": "[encoded data removed]",
      "text/plain": [
       "<Figure size 432x288 with 1 Axes>"
      ]
     },
     "metadata": {},
     "output_type": "display_data"
    }
   ],
   "source": [
    "\n",
    "confirmed_swiss=confirmed.iloc[206,4:]\n",
    "dead_swiss=dead.iloc[137,4:]\n",
    "recovered_swiss=recovered.iloc[137,4:]\n",
    "confirmed_swiss\n",
    "time=np.arange(len(confirmed_swiss))\n",
    "plt.figure()\n",
    "plt.title('Confirmed Case in Switzerland')\n",
    "plt.xlabel('day after 01-20-2020')\n",
    "plt.ylabel('number of case')\n",
    "plt.plot(time,confirmed_swiss,'b-',label='confirmed')\n",
    "plt.plot(time,dead_swiss,'r-',label='dead')\n",
    "plt.plot(time,recovered_swiss,'g-',label='recovered')\n",
    "plt.legend()\n",
    "plt.xlim(40)\n",
    "plt.show()"
   ]
  }
 ],
 "metadata": {
  "kernelspec": {
   "display_name": "Python [conda env:anaconda3] *",
   "language": "python",
   "name": "conda-env-anaconda3-py"
  },
  "language_info": {
   "codemirror_mode": {
    "name": "ipython",
    "version": 3
   },
   "file_extension": ".py",
   "mimetype": "text/x-python",
   "name": "python",
   "nbconvert_exporter": "python",
   "pygments_lexer": "ipython3",
   "version": "3.7.4"
  }
 },
 "nbformat": 4,
 "nbformat_minor": 2
}
